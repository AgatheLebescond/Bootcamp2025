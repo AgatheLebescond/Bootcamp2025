{
 "cells": [
  {
   "cell_type": "code",
   "execution_count": 23,
   "id": "f3b8a9e0",
   "metadata": {},
   "outputs": [
    {
     "name": "stdout",
     "output_type": "stream",
     "text": [
      "Hello world\n",
      "Hello world\n",
      "Hello world\n",
      "Hello world\n"
     ]
    }
   ],
   "source": [
    "#EX 1 This script prints \"Hello world\" 4 times\n",
    "\n",
    "for _ in range(4):\n",
    "\n",
    "    print (\"Hello world\")"
   ]
  },
  {
   "cell_type": "code",
   "execution_count": 24,
   "id": "b28027f9",
   "metadata": {},
   "outputs": [
    {
     "name": "stdout",
     "output_type": "stream",
     "text": [
      "7762392\n"
     ]
    }
   ],
   "source": [
    "#Ex 2\n",
    "#Print the result of 99^3 * 8\n",
    "\n",
    "print((99**3)*8)"
   ]
  },
  {
   "cell_type": "code",
   "execution_count": 25,
   "id": "6c220cb3",
   "metadata": {},
   "outputs": [
    {
     "name": "stdout",
     "output_type": "stream",
     "text": [
      "Hello my name is Agathe\n",
      "You entered: Agathe\n",
      "Guess what? We have the same name!\n"
     ]
    }
   ],
   "source": [
    "#EX 3\n",
    "my_name = \"Agathe\"\n",
    "print(\"Hello my name is\", my_name)\n",
    "user_name = input(\"What is your name?\")\n",
    "print(\"You entered:\", user_name)\n",
    "if user_name.strip().lower()== my_name.lower():\n",
    "    print(f\"Guess what? We have the same name!\")\n",
    "else :\n",
    "    print(f\"Nice to meet you{user_name}!\")"
   ]
  },
  {
   "cell_type": "code",
   "execution_count": 26,
   "id": "0ec1645b",
   "metadata": {},
   "outputs": [
    {
     "name": "stdout",
     "output_type": "stream",
     "text": [
      "You typed: 150\n"
     ]
    }
   ],
   "source": [
    "#EX 4-1\n",
    "\n",
    "height = 150\n",
    "print(\"You typed:\", height)\n",
    "\n",
    "\n"
   ]
  },
  {
   "cell_type": "code",
   "execution_count": 27,
   "id": "e9660b8e",
   "metadata": {},
   "outputs": [
    {
     "name": "stdout",
     "output_type": "stream",
     "text": [
      "Congratulations, you can ride this roller coaster\n"
     ]
    }
   ],
   "source": [
    "height = input(\"what is your height in cm?\")\n",
    "if height.isdigit():\n",
    "    height = int(height)\n",
    "    if height < 150:\n",
    "        print(\"Sorry, you are no tall enough to ride this roller coaster\")\n",
    "    elif height < 190:\n",
    "        print(\"Congratulations, you can ride this roller coaster\")\n",
    "    else:\n",
    "        print(\"You are too tall to ride this roller coaster\")\n",
    "else:\n",
    "    print(\"Please enter a valid number.\")"
   ]
  },
  {
   "cell_type": "code",
   "execution_count": 28,
   "id": "8a816ee8",
   "metadata": {},
   "outputs": [
    {
     "name": "stdout",
     "output_type": "stream",
     "text": [
      "My favorite numbers: {8, 12, 7}\n",
      "My favorite numbers: {7, 8, 12, 21}\n",
      "Friend's favorite numbers: {8, 3, 15}\n",
      "Our favorite numbers: {3, 21, 7, 8, 12, 15}\n"
     ]
    }
   ],
   "source": [
    "#Ex5\n",
    "# Create a set with your favorite numbers\n",
    "my_fav_numbers = {7, 8, 12}\n",
    "print(\"My favorite numbers:\", my_fav_numbers)\n",
    "\n",
    "# Add two new numbers to the set\n",
    "my_fav_numbers.add(21)\n",
    "my_fav_numbers.add(42)\n",
    "\n",
    "# Remove the last number you added (let's remove 42)\n",
    "my_fav_numbers.remove(42)\n",
    "\n",
    "# Create another set with your friend's favorite numbers\n",
    "friend_fav_numbers = {3, 8, 15}\n",
    "\n",
    "# Concatenate the two sets to create a new set\n",
    "our_fav_numbers = my_fav_numbers.union(friend_fav_numbers)\n",
    "\n",
    "print(\"My favorite numbers:\", my_fav_numbers)\n",
    "print(\"Friend's favorite numbers:\", friend_fav_numbers)\n",
    "print(\"Our favorite numbers:\", our_fav_numbers)"
   ]
  },
  {
   "cell_type": "code",
   "execution_count": null,
   "id": "ec64717b",
   "metadata": {},
   "outputs": [],
   "source": []
  },
  {
   "cell_type": "code",
   "execution_count": null,
   "id": "78860175",
   "metadata": {},
   "outputs": [],
   "source": []
  }
 ],
 "metadata": {
  "kernelspec": {
   "display_name": "Python 3",
   "language": "python",
   "name": "python3"
  },
  "language_info": {
   "codemirror_mode": {
    "name": "ipython",
    "version": 3
   },
   "file_extension": ".py",
   "mimetype": "text/x-python",
   "name": "python",
   "nbconvert_exporter": "python",
   "pygments_lexer": "ipython3",
   "version": "3.9.6"
  }
 },
 "nbformat": 4,
 "nbformat_minor": 5
}
