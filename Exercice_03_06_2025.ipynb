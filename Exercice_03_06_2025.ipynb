{
 "cells": [
  {
   "cell_type": "code",
   "execution_count": 6,
   "id": "dd68eec2",
   "metadata": {},
   "outputs": [
    {
     "name": "stdout",
     "output_type": "stream",
     "text": [
      "hello world\n"
     ]
    }
   ],
   "source": [
    "first= 'hello world'\n",
    "print (first)"
   ]
  },
  {
   "cell_type": "code",
   "execution_count": 1,
   "id": "27488739",
   "metadata": {},
   "outputs": [
    {
     "ename": "SyntaxError",
     "evalue": "invalid syntax (3645526289.py, line 4)",
     "output_type": "error",
     "traceback": [
      "\u001b[0;36m  Cell \u001b[0;32mIn[1], line 4\u001b[0;36m\u001b[0m\n\u001b[0;31m    elif human_years==2: cats _years=15+9\u001b[0m\n\u001b[0m                              ^\u001b[0m\n\u001b[0;31mSyntaxError\u001b[0m\u001b[0;31m:\u001b[0m invalid syntax\n"
     ]
    }
   ],
   "source": [
    "#calculate_pet_years\n",
    "cats \n",
    "if human_years ==1:cat_years==15 \n",
    "elif human_years==2: cats _years=15+9 \n",
    "else : cat_years=15+9+(human_years-2)*4\n",
    "dogs\n",
    "if human _years==1:dog_years=15\n",
    "elif human_years==2:dog_years=15+9\n",
    "else: dog_years=15+ç+(human_years-2)*5"
   ]
  },
  {
   "cell_type": "code",
   "execution_count": 1,
   "id": "b627421d",
   "metadata": {},
   "outputs": [
    {
     "name": "stdout",
     "output_type": "stream",
     "text": [
      "I AM A COMPUTER\n"
     ]
    }
   ],
   "source": [
    "print (\"I AM A COMPUTER\")"
   ]
  },
  {
   "cell_type": "code",
   "execution_count": 1,
   "id": "85907fe6",
   "metadata": {},
   "outputs": [
    {
     "name": "stdout",
     "output_type": "stream",
     "text": [
      "la lettre y est dans le mot\n"
     ]
    }
   ],
   "source": [
    "if \"y\" in \"xylophone\": print (\"la lettre y est dans le mot\")\n",
    "else : print (\"la lettre 'y n'est pas dans le mot\")"
   ]
  },
  {
   "cell_type": "code",
   "execution_count": 1,
   "id": "76ba47d5",
   "metadata": {},
   "outputs": [
    {
     "ename": "ZeroDivisionError",
     "evalue": "division by zero",
     "output_type": "error",
     "traceback": [
      "\u001b[0;31m---------------------------------------------------------------------------\u001b[0m",
      "\u001b[0;31mZeroDivisionError\u001b[0m                         Traceback (most recent call last)",
      "Cell \u001b[0;32mIn[1], line 1\u001b[0m\n\u001b[0;32m----> 1\u001b[0m \u001b[38;5;241;43m1\u001b[39;49m\u001b[38;5;241;43m/\u001b[39;49m\u001b[38;5;241;43m0\u001b[39;49m\n",
      "\u001b[0;31mZeroDivisionError\u001b[0m: division by zero"
     ]
    }
   ],
   "source": [
    "1/0"
   ]
  },
  {
   "cell_type": "code",
   "execution_count": 1,
   "id": "b8fa6c34",
   "metadata": {},
   "outputs": [],
   "source": [
    "# this is a comment"
   ]
  },
  {
   "cell_type": "code",
   "execution_count": null,
   "id": "43a196d9",
   "metadata": {},
   "outputs": [],
   "source": [
    "my_string= 'apple'\n",
    "index_1 = my_string.index(\"1\")\n",
    "print (index _1)"
   ]
  },
  {
   "cell_type": "code",
   "execution_count": null,
   "id": "7d5b4052",
   "metadata": {},
   "outputs": [
    {
     "name": "stdout",
     "output_type": "stream",
     "text": [
      "coolcoolcool\n"
     ]
    }
   ],
   "source": [
    "resultat = 3 * 'cool'\n",
    "print (resultat) "
   ]
  },
  {
   "cell_type": "code",
   "execution_count": 1,
   "id": "82c7b7f4",
   "metadata": {},
   "outputs": [
    {
     "name": "stdout",
     "output_type": "stream",
     "text": [
      "1000\n"
     ]
    }
   ],
   "source": [
    "num = 1000\n",
    "print(str(num))  # Output: '1000'"
   ]
  },
  {
   "cell_type": "code",
   "execution_count": 1,
   "id": "241e7cd4",
   "metadata": {},
   "outputs": [
    {
     "ename": "SyntaxError",
     "evalue": "invalid syntax (2526647469.py, line 1)",
     "output_type": "error",
     "traceback": [
      "\u001b[0;36m  Cell \u001b[0;32mIn[1], line 1\u001b[0;36m\u001b[0m\n\u001b[0;31m    If 1<2 and 4>2  print (\"Math is fun\")\u001b[0m\n\u001b[0m       ^\u001b[0m\n\u001b[0;31mSyntaxError\u001b[0m\u001b[0;31m:\u001b[0m invalid syntax\n"
     ]
    }
   ],
   "source": [
    "If 1<2 and 4>2  print (\"Math is fun\")"
   ]
  },
  {
   "cell_type": "code",
   "execution_count": 15,
   "id": "93418503",
   "metadata": {},
   "outputs": [
    {
     "name": "stdout",
     "output_type": "stream",
     "text": [
      "False\n",
      "True\n"
     ]
    }
   ],
   "source": [
    "print (True<False) # affiche :False\n",
    "print (True>False) # affiche : True"
   ]
  }
 ],
 "metadata": {
  "kernelspec": {
   "display_name": "Python 3",
   "language": "python",
   "name": "python3"
  },
  "language_info": {
   "codemirror_mode": {
    "name": "ipython",
    "version": 3
   },
   "file_extension": ".py",
   "mimetype": "text/x-python",
   "name": "python",
   "nbconvert_exporter": "python",
   "pygments_lexer": "ipython3",
   "version": "3.9.6"
  }
 },
 "nbformat": 4,
 "nbformat_minor": 5
}
